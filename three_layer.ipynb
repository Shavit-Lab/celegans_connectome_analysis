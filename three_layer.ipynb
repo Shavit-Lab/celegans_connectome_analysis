{
 "cells": [
  {
   "cell_type": "code",
   "execution_count": 22,
   "id": "eed8d0c8",
   "metadata": {},
   "outputs": [],
   "source": [
    "import networkx as nx\n",
    "import matplotlib.pyplot as plt\n",
    "import numpy as np\n",
    "import graspologic as gl\n",
    "import pickle\n",
    "import pandas as pd"
   ]
  },
  {
   "cell_type": "code",
   "execution_count": 6,
   "id": "439bed0d",
   "metadata": {},
   "outputs": [],
   "source": [
    "with open('data/pruned_graph.gpickle', 'rb') as f:\n",
    "    G = pickle.load(f)"
   ]
  },
  {
   "cell_type": "code",
   "execution_count": 9,
   "id": "26c5d746",
   "metadata": {},
   "outputs": [
    {
     "name": "stdout",
     "output_type": "stream",
     "text": [
      "53\n",
      "32\n",
      "32\n"
     ]
    }
   ],
   "source": [
    "sensory_neurons = [node for node in G.nodes if G.nodes[node]['neuron type'] == 'Sens.']\n",
    "interneurons = [node for node in G.nodes if G.nodes[node]['neuron type'] == 'Inter.']\n",
    "motor_neurons = [node for node in G.nodes if G.nodes[node]['neuron type'] == 'Mot.']\n",
    "print(len(sensory_neurons))\n",
    "print(len(interneurons))\n",
    "print(len(motor_neurons))"
   ]
  },
  {
   "cell_type": "code",
   "execution_count": 14,
   "id": "d09b45b9",
   "metadata": {},
   "outputs": [
    {
     "name": "stdout",
     "output_type": "stream",
     "text": [
      "48\n",
      "17\n",
      "21\n"
     ]
    }
   ],
   "source": [
    "# pass 1: filter to only sensory neurons that have a direct struc connection to interneuron\n",
    "filt1_sens = {}\n",
    "filt1_int = set()\n",
    "for sn in sensory_neurons:\n",
    "    for itn in interneurons:\n",
    "        if G.has_edge(sn, itn) and G[sn][itn]['has_stx']:\n",
    "            if sn not in filt1_sens:\n",
    "                filt1_sens[sn] = []\n",
    "            filt1_sens[sn].append(itn)\n",
    "            filt1_int.add(itn)\n",
    "\n",
    "# pass 2: filter interneurons to only those that have a direct struc connection to motor neuron and filter sensory neurons to only those that\n",
    "# have struc connection to a filter interneuron\n",
    "filt2_int = set()\n",
    "filt_motor_neurons = set()\n",
    "for itn in filt1_int:\n",
    "    for mn in motor_neurons:\n",
    "        if G.has_edge(itn, mn) and G[itn][mn]['has_stx']:\n",
    "            filt_motor_neurons.add(mn)\n",
    "            filt2_int.add(itn)\n",
    "    if itn not in filt2_int:\n",
    "        for sn in filt1_sens:\n",
    "            if itn in filt1_sens[sn]:\n",
    "                filt1_sens[sn].remove(itn)\n",
    "filt_sens_neurons = {sn for sn in filt1_sens if len(filt1_sens[sn]) > 0}\n",
    "filt_interneurons = filt2_int\n",
    "\n",
    "print(len(filt_sens_neurons))\n",
    "print(len(filt_interneurons))\n",
    "print(len(filt_motor_neurons))"
   ]
  },
  {
   "cell_type": "code",
   "execution_count": 16,
   "id": "9ac878aa",
   "metadata": {},
   "outputs": [
    {
     "name": "stdout",
     "output_type": "stream",
     "text": [
      "True\n",
      "True\n",
      "True\n"
     ]
    }
   ],
   "source": [
    "# checks\n",
    "\n",
    "def check_motor_filt(motor_neurons, interneurons):\n",
    "    for mn in motor_neurons:\n",
    "        if not any(G.has_edge(itn, mn) for itn in interneurons):\n",
    "            print(f\"Motor neuron {mn} has no connection to any filtered interneurons.\")\n",
    "            return False\n",
    "    return True\n",
    "\n",
    "def check_inter_filt(interneurons, sensory_neurons):\n",
    "    for itn in interneurons:\n",
    "        if not any(G.has_edge(sn, itn) for sn in sensory_neurons):\n",
    "            print(f\"Interneuron {itn} has no connection to any filtered sensory neurons.\")\n",
    "            return False\n",
    "        if not any(G.has_edge(itn, mn) for mn in motor_neurons):\n",
    "            print(f\"Interneuron {itn} has no connection to any filtered motor neurons.\")\n",
    "            return False\n",
    "    return True\n",
    "\n",
    "def check_sens_filt(sensory_neurons, interneurons):\n",
    "    for sn in sensory_neurons:\n",
    "        if not any(G.has_edge(sn, itn) for itn in interneurons):\n",
    "            print(f\"Sensor neuron {sn} has no connection to any filtered interneurons.\")\n",
    "            return False\n",
    "    return True\n",
    "\n",
    "print(check_motor_filt(filt_motor_neurons, filt_interneurons))\n",
    "print(check_inter_filt(filt_interneurons, filt_sens_neurons))\n",
    "print(check_sens_filt(filt_sens_neurons, filt_interneurons))\n",
    "    "
   ]
  },
  {
   "cell_type": "code",
   "execution_count": 107,
   "id": "734d0c04",
   "metadata": {},
   "outputs": [
    {
     "data": {
      "application/vnd.microsoft.datawrangler.viewer.v0+json": {
       "columns": [
        {
         "name": "index",
         "rawType": "int64",
         "type": "integer"
        },
        {
         "name": "neuron_name",
         "rawType": "object",
         "type": "string"
        },
        {
         "name": "closest_neuron",
         "rawType": "object",
         "type": "string"
        },
        {
         "name": "dist",
         "rawType": "int64",
         "type": "integer"
        }
       ],
       "conversionMethod": "pd.DataFrame",
       "ref": "ec6daeaf-8d16-4939-b886-79fe947fa01d",
       "rows": [
        [
         "0",
         "ASHL",
         "ADLL",
         "3"
        ],
        [
         "1",
         "BAGR",
         "AUAL",
         "5"
        ],
        [
         "2",
         "URXR",
         "BAGL",
         "4"
        ],
        [
         "3",
         "ASGL",
         "ASIL",
         "2"
        ],
        [
         "4",
         "FLPR",
         "URYVR",
         "4"
        ],
        [
         "5",
         "IL2DR",
         "OLQVR",
         "0"
        ],
        [
         "6",
         "URYVR",
         "FLPR",
         "4"
        ],
        [
         "7",
         "SAADR",
         "SAAVR",
         "2"
        ],
        [
         "8",
         "SAAVR",
         "SAADR",
         "2"
        ],
        [
         "9",
         "ADLR",
         "ASGR",
         "5"
        ],
        [
         "10",
         "FLPL",
         "FLPR",
         "6"
        ],
        [
         "11",
         "ASIL",
         "ASGR",
         "1"
        ],
        [
         "12",
         "SAAVL",
         "SAADL",
         "1"
        ],
        [
         "13",
         "AWAR",
         "AWBR",
         "2"
        ],
        [
         "14",
         "OLQVR",
         "IL2DR",
         "0"
        ],
        [
         "15",
         "ADFL",
         "AWBL",
         "3"
        ],
        [
         "16",
         "AFDL",
         "AWAL",
         "1"
        ],
        [
         "17",
         "ASER",
         "AWCR",
         "1"
        ],
        [
         "18",
         "AWCL",
         "AWCR",
         "1"
        ],
        [
         "19",
         "URYDR",
         "OLLR",
         "2"
        ],
        [
         "20",
         "ASHR",
         "ADLR",
         "8"
        ],
        [
         "21",
         "ASEL",
         "ASER",
         "3"
        ],
        [
         "22",
         "AUAL",
         "URXL",
         "4"
        ],
        [
         "23",
         "AUAR",
         "BAGL",
         "2"
        ],
        [
         "24",
         "SAADL",
         "SAAVL",
         "1"
        ],
        [
         "25",
         "AWAL",
         "AFDL",
         "1"
        ],
        [
         "26",
         "OLLR",
         "URYDR",
         "2"
        ],
        [
         "27",
         "URYVL",
         "OLLL",
         "1"
        ],
        [
         "28",
         "AQR",
         "FLPR",
         "7"
        ],
        [
         "29",
         "URYDL",
         "URYVL",
         "4"
        ],
        [
         "30",
         "IL2R",
         "IL2DR",
         "0"
        ],
        [
         "31",
         "IL2DL",
         "IL2DR",
         "3"
        ],
        [
         "32",
         "IL2VL",
         "ASGR",
         "3"
        ],
        [
         "33",
         "OLLL",
         "URYVL",
         "1"
        ],
        [
         "34",
         "URBL",
         "IL2DR",
         "4"
        ],
        [
         "35",
         "ASKL",
         "ASGL",
         "3"
        ],
        [
         "36",
         "AWCR",
         "ASER",
         "1"
        ],
        [
         "37",
         "AWBL",
         "URXL",
         "2"
        ],
        [
         "38",
         "ADLL",
         "ASHL",
         "3"
        ],
        [
         "39",
         "ASGR",
         "ASKR",
         "0"
        ],
        [
         "40",
         "IL2L",
         "IL2DR",
         "0"
        ],
        [
         "41",
         "AWBR",
         "AWAR",
         "2"
        ],
        [
         "42",
         "ASKR",
         "ASGR",
         "0"
        ],
        [
         "43",
         "OLQDL",
         "IL2DR",
         "0"
        ],
        [
         "44",
         "ASIR",
         "ASGR",
         "1"
        ],
        [
         "45",
         "BAGL",
         "AUAR",
         "2"
        ],
        [
         "46",
         "URBR",
         "IL2DR",
         "3"
        ],
        [
         "47",
         "URXL",
         "AWBL",
         "2"
        ]
       ],
       "shape": {
        "columns": 3,
        "rows": 48
       }
      },
      "text/html": [
       "<div>\n",
       "<style scoped>\n",
       "    .dataframe tbody tr th:only-of-type {\n",
       "        vertical-align: middle;\n",
       "    }\n",
       "\n",
       "    .dataframe tbody tr th {\n",
       "        vertical-align: top;\n",
       "    }\n",
       "\n",
       "    .dataframe thead th {\n",
       "        text-align: right;\n",
       "    }\n",
       "</style>\n",
       "<table border=\"1\" class=\"dataframe\">\n",
       "  <thead>\n",
       "    <tr style=\"text-align: right;\">\n",
       "      <th></th>\n",
       "      <th>neuron_name</th>\n",
       "      <th>closest_neuron</th>\n",
       "      <th>dist</th>\n",
       "    </tr>\n",
       "  </thead>\n",
       "  <tbody>\n",
       "    <tr>\n",
       "      <th>0</th>\n",
       "      <td>ASHL</td>\n",
       "      <td>ADLL</td>\n",
       "      <td>3</td>\n",
       "    </tr>\n",
       "    <tr>\n",
       "      <th>1</th>\n",
       "      <td>BAGR</td>\n",
       "      <td>AUAL</td>\n",
       "      <td>5</td>\n",
       "    </tr>\n",
       "    <tr>\n",
       "      <th>2</th>\n",
       "      <td>URXR</td>\n",
       "      <td>BAGL</td>\n",
       "      <td>4</td>\n",
       "    </tr>\n",
       "    <tr>\n",
       "      <th>3</th>\n",
       "      <td>ASGL</td>\n",
       "      <td>ASIL</td>\n",
       "      <td>2</td>\n",
       "    </tr>\n",
       "    <tr>\n",
       "      <th>4</th>\n",
       "      <td>FLPR</td>\n",
       "      <td>URYVR</td>\n",
       "      <td>4</td>\n",
       "    </tr>\n",
       "    <tr>\n",
       "      <th>5</th>\n",
       "      <td>IL2DR</td>\n",
       "      <td>OLQVR</td>\n",
       "      <td>0</td>\n",
       "    </tr>\n",
       "    <tr>\n",
       "      <th>6</th>\n",
       "      <td>URYVR</td>\n",
       "      <td>FLPR</td>\n",
       "      <td>4</td>\n",
       "    </tr>\n",
       "    <tr>\n",
       "      <th>7</th>\n",
       "      <td>SAADR</td>\n",
       "      <td>SAAVR</td>\n",
       "      <td>2</td>\n",
       "    </tr>\n",
       "    <tr>\n",
       "      <th>8</th>\n",
       "      <td>SAAVR</td>\n",
       "      <td>SAADR</td>\n",
       "      <td>2</td>\n",
       "    </tr>\n",
       "    <tr>\n",
       "      <th>9</th>\n",
       "      <td>ADLR</td>\n",
       "      <td>ASGR</td>\n",
       "      <td>5</td>\n",
       "    </tr>\n",
       "    <tr>\n",
       "      <th>10</th>\n",
       "      <td>FLPL</td>\n",
       "      <td>FLPR</td>\n",
       "      <td>6</td>\n",
       "    </tr>\n",
       "    <tr>\n",
       "      <th>11</th>\n",
       "      <td>ASIL</td>\n",
       "      <td>ASGR</td>\n",
       "      <td>1</td>\n",
       "    </tr>\n",
       "    <tr>\n",
       "      <th>12</th>\n",
       "      <td>SAAVL</td>\n",
       "      <td>SAADL</td>\n",
       "      <td>1</td>\n",
       "    </tr>\n",
       "    <tr>\n",
       "      <th>13</th>\n",
       "      <td>AWAR</td>\n",
       "      <td>AWBR</td>\n",
       "      <td>2</td>\n",
       "    </tr>\n",
       "    <tr>\n",
       "      <th>14</th>\n",
       "      <td>OLQVR</td>\n",
       "      <td>IL2DR</td>\n",
       "      <td>0</td>\n",
       "    </tr>\n",
       "    <tr>\n",
       "      <th>15</th>\n",
       "      <td>ADFL</td>\n",
       "      <td>AWBL</td>\n",
       "      <td>3</td>\n",
       "    </tr>\n",
       "    <tr>\n",
       "      <th>16</th>\n",
       "      <td>AFDL</td>\n",
       "      <td>AWAL</td>\n",
       "      <td>1</td>\n",
       "    </tr>\n",
       "    <tr>\n",
       "      <th>17</th>\n",
       "      <td>ASER</td>\n",
       "      <td>AWCR</td>\n",
       "      <td>1</td>\n",
       "    </tr>\n",
       "    <tr>\n",
       "      <th>18</th>\n",
       "      <td>AWCL</td>\n",
       "      <td>AWCR</td>\n",
       "      <td>1</td>\n",
       "    </tr>\n",
       "    <tr>\n",
       "      <th>19</th>\n",
       "      <td>URYDR</td>\n",
       "      <td>OLLR</td>\n",
       "      <td>2</td>\n",
       "    </tr>\n",
       "    <tr>\n",
       "      <th>20</th>\n",
       "      <td>ASHR</td>\n",
       "      <td>ADLR</td>\n",
       "      <td>8</td>\n",
       "    </tr>\n",
       "    <tr>\n",
       "      <th>21</th>\n",
       "      <td>ASEL</td>\n",
       "      <td>ASER</td>\n",
       "      <td>3</td>\n",
       "    </tr>\n",
       "    <tr>\n",
       "      <th>22</th>\n",
       "      <td>AUAL</td>\n",
       "      <td>URXL</td>\n",
       "      <td>4</td>\n",
       "    </tr>\n",
       "    <tr>\n",
       "      <th>23</th>\n",
       "      <td>AUAR</td>\n",
       "      <td>BAGL</td>\n",
       "      <td>2</td>\n",
       "    </tr>\n",
       "    <tr>\n",
       "      <th>24</th>\n",
       "      <td>SAADL</td>\n",
       "      <td>SAAVL</td>\n",
       "      <td>1</td>\n",
       "    </tr>\n",
       "    <tr>\n",
       "      <th>25</th>\n",
       "      <td>AWAL</td>\n",
       "      <td>AFDL</td>\n",
       "      <td>1</td>\n",
       "    </tr>\n",
       "    <tr>\n",
       "      <th>26</th>\n",
       "      <td>OLLR</td>\n",
       "      <td>URYDR</td>\n",
       "      <td>2</td>\n",
       "    </tr>\n",
       "    <tr>\n",
       "      <th>27</th>\n",
       "      <td>URYVL</td>\n",
       "      <td>OLLL</td>\n",
       "      <td>1</td>\n",
       "    </tr>\n",
       "    <tr>\n",
       "      <th>28</th>\n",
       "      <td>AQR</td>\n",
       "      <td>FLPR</td>\n",
       "      <td>7</td>\n",
       "    </tr>\n",
       "    <tr>\n",
       "      <th>29</th>\n",
       "      <td>URYDL</td>\n",
       "      <td>URYVL</td>\n",
       "      <td>4</td>\n",
       "    </tr>\n",
       "    <tr>\n",
       "      <th>30</th>\n",
       "      <td>IL2R</td>\n",
       "      <td>IL2DR</td>\n",
       "      <td>0</td>\n",
       "    </tr>\n",
       "    <tr>\n",
       "      <th>31</th>\n",
       "      <td>IL2DL</td>\n",
       "      <td>IL2DR</td>\n",
       "      <td>3</td>\n",
       "    </tr>\n",
       "    <tr>\n",
       "      <th>32</th>\n",
       "      <td>IL2VL</td>\n",
       "      <td>ASGR</td>\n",
       "      <td>3</td>\n",
       "    </tr>\n",
       "    <tr>\n",
       "      <th>33</th>\n",
       "      <td>OLLL</td>\n",
       "      <td>URYVL</td>\n",
       "      <td>1</td>\n",
       "    </tr>\n",
       "    <tr>\n",
       "      <th>34</th>\n",
       "      <td>URBL</td>\n",
       "      <td>IL2DR</td>\n",
       "      <td>4</td>\n",
       "    </tr>\n",
       "    <tr>\n",
       "      <th>35</th>\n",
       "      <td>ASKL</td>\n",
       "      <td>ASGL</td>\n",
       "      <td>3</td>\n",
       "    </tr>\n",
       "    <tr>\n",
       "      <th>36</th>\n",
       "      <td>AWCR</td>\n",
       "      <td>ASER</td>\n",
       "      <td>1</td>\n",
       "    </tr>\n",
       "    <tr>\n",
       "      <th>37</th>\n",
       "      <td>AWBL</td>\n",
       "      <td>URXL</td>\n",
       "      <td>2</td>\n",
       "    </tr>\n",
       "    <tr>\n",
       "      <th>38</th>\n",
       "      <td>ADLL</td>\n",
       "      <td>ASHL</td>\n",
       "      <td>3</td>\n",
       "    </tr>\n",
       "    <tr>\n",
       "      <th>39</th>\n",
       "      <td>ASGR</td>\n",
       "      <td>ASKR</td>\n",
       "      <td>0</td>\n",
       "    </tr>\n",
       "    <tr>\n",
       "      <th>40</th>\n",
       "      <td>IL2L</td>\n",
       "      <td>IL2DR</td>\n",
       "      <td>0</td>\n",
       "    </tr>\n",
       "    <tr>\n",
       "      <th>41</th>\n",
       "      <td>AWBR</td>\n",
       "      <td>AWAR</td>\n",
       "      <td>2</td>\n",
       "    </tr>\n",
       "    <tr>\n",
       "      <th>42</th>\n",
       "      <td>ASKR</td>\n",
       "      <td>ASGR</td>\n",
       "      <td>0</td>\n",
       "    </tr>\n",
       "    <tr>\n",
       "      <th>43</th>\n",
       "      <td>OLQDL</td>\n",
       "      <td>IL2DR</td>\n",
       "      <td>0</td>\n",
       "    </tr>\n",
       "    <tr>\n",
       "      <th>44</th>\n",
       "      <td>ASIR</td>\n",
       "      <td>ASGR</td>\n",
       "      <td>1</td>\n",
       "    </tr>\n",
       "    <tr>\n",
       "      <th>45</th>\n",
       "      <td>BAGL</td>\n",
       "      <td>AUAR</td>\n",
       "      <td>2</td>\n",
       "    </tr>\n",
       "    <tr>\n",
       "      <th>46</th>\n",
       "      <td>URBR</td>\n",
       "      <td>IL2DR</td>\n",
       "      <td>3</td>\n",
       "    </tr>\n",
       "    <tr>\n",
       "      <th>47</th>\n",
       "      <td>URXL</td>\n",
       "      <td>AWBL</td>\n",
       "      <td>2</td>\n",
       "    </tr>\n",
       "  </tbody>\n",
       "</table>\n",
       "</div>"
      ],
      "text/plain": [
       "   neuron_name closest_neuron  dist\n",
       "0         ASHL           ADLL     3\n",
       "1         BAGR           AUAL     5\n",
       "2         URXR           BAGL     4\n",
       "3         ASGL           ASIL     2\n",
       "4         FLPR          URYVR     4\n",
       "5        IL2DR          OLQVR     0\n",
       "6        URYVR           FLPR     4\n",
       "7        SAADR          SAAVR     2\n",
       "8        SAAVR          SAADR     2\n",
       "9         ADLR           ASGR     5\n",
       "10        FLPL           FLPR     6\n",
       "11        ASIL           ASGR     1\n",
       "12       SAAVL          SAADL     1\n",
       "13        AWAR           AWBR     2\n",
       "14       OLQVR          IL2DR     0\n",
       "15        ADFL           AWBL     3\n",
       "16        AFDL           AWAL     1\n",
       "17        ASER           AWCR     1\n",
       "18        AWCL           AWCR     1\n",
       "19       URYDR           OLLR     2\n",
       "20        ASHR           ADLR     8\n",
       "21        ASEL           ASER     3\n",
       "22        AUAL           URXL     4\n",
       "23        AUAR           BAGL     2\n",
       "24       SAADL          SAAVL     1\n",
       "25        AWAL           AFDL     1\n",
       "26        OLLR          URYDR     2\n",
       "27       URYVL           OLLL     1\n",
       "28         AQR           FLPR     7\n",
       "29       URYDL          URYVL     4\n",
       "30        IL2R          IL2DR     0\n",
       "31       IL2DL          IL2DR     3\n",
       "32       IL2VL           ASGR     3\n",
       "33        OLLL          URYVL     1\n",
       "34        URBL          IL2DR     4\n",
       "35        ASKL           ASGL     3\n",
       "36        AWCR           ASER     1\n",
       "37        AWBL           URXL     2\n",
       "38        ADLL           ASHL     3\n",
       "39        ASGR           ASKR     0\n",
       "40        IL2L          IL2DR     0\n",
       "41        AWBR           AWAR     2\n",
       "42        ASKR           ASGR     0\n",
       "43       OLQDL          IL2DR     0\n",
       "44        ASIR           ASGR     1\n",
       "45        BAGL           AUAR     2\n",
       "46        URBR          IL2DR     3\n",
       "47        URXL           AWBL     2"
      ]
     },
     "execution_count": 107,
     "metadata": {},
     "output_type": "execute_result"
    }
   ],
   "source": [
    "# for each sensory neurons, get most similar sensory neuron in terms of functional output (metric: bits different)\n",
    "\n",
    "def get_func_output(ingoing, possible_outgoing, G):\n",
    "    \"\"\"get functional output vector as a binary list of connections to a set of outgoing neurons\"\"\"\n",
    "    func_output = []\n",
    "    for outgoing in possible_outgoing:\n",
    "        if G.has_edge(ingoing, outgoing) and G[ingoing][outgoing]['fx_weight'] > 0:\n",
    "            func_output.append(1)\n",
    "        else:\n",
    "            func_output.append(0)\n",
    "    return np.array(func_output)\n",
    "\n",
    "def get_struc_output(ingoing, possible_outgoing, G):\n",
    "    \"\"\"get structural output vector as a binary list of connections to a set of outgoing neurons\"\"\"\n",
    "    func_output = []\n",
    "    for outgoing in possible_outgoing:\n",
    "        if G.has_edge(ingoing, outgoing) and G[ingoing][outgoing]['stx_weight'] > 0:\n",
    "            func_output.append(1)\n",
    "        else:\n",
    "            func_output.append(0)\n",
    "    return np.array(func_output)\n",
    "\n",
    "def output_distance(v1, v2):\n",
    "    return np.sum(v1 != v2)\n",
    "\n",
    "# sens_func_outputs = {sn: get_func_output(sn, interneurons, G) for sn in filt_sens_neurons}\n",
    "sens_func_outputs = {sn: get_struc_output(sn, interneurons, G) for sn in filt_sens_neurons}\n",
    "sens_to_min_dist_sens = {}\n",
    "for sn in filt_sens_neurons:\n",
    "    without_self_outputs = {key: value for key, value in sens_func_outputs.items() if key != sn}\n",
    "    min_dist_sens = min(without_self_outputs, key=lambda x: output_distance(sens_func_outputs[sn], without_self_outputs[x]))\n",
    "    min_dist = output_distance(sens_func_outputs[sn], without_self_outputs[min_dist_sens])\n",
    "    sens_to_min_dist_sens[sn] = (min_dist_sens, min_dist)\n",
    "\n",
    "# convert sens_to_min_dist_sens to a pandas df\n",
    "closest_sens_df = pd.DataFrame(columns=['neuron_name', 'closest_neuron', 'dist'])\n",
    "for sn, infos in sens_to_min_dist_sens.items():\n",
    "    neuron_name, closest_neuron, dist = sn, infos[0], infos[1]\n",
    "    closest_sens_df.loc[len(closest_sens_df)] = {'neuron_name': neuron_name, 'closest_neuron': closest_neuron, 'dist': dist} \n",
    "\n",
    "closest_sens_df"
   ]
  },
  {
   "cell_type": "code",
   "execution_count": 130,
   "id": "72deb1ab",
   "metadata": {},
   "outputs": [],
   "source": [
    "# candidate neurons with identical \n",
    "s1 = 'SAAVR'\n",
    "s2 = 'SAADR'\n",
    "def get_feedforward_subgrapg(s1, s2):\n",
    "    g = nx.DiGraph()\n",
    "    for sn in [s1, s2]:\n",
    "        g.add_node(sn, neuron_type='Sens.')\n",
    "        for itn in filt_interneurons:\n",
    "            if G.has_edge(sn, itn) and G[sn][itn]['has_stx']:\n",
    "                g.add_node(itn, neuron_type='Inter.')\n",
    "                g.add_edge(sn, itn, stx_weight = G[sn][itn]['stx_weight'])\n",
    "    g_inter = [node for node in g.nodes if g.nodes[node]['neuron_type'] == 'Inter.']\n",
    "    for mn in filt_motor_neurons:\n",
    "        for itn in g_inter:\n",
    "            if G.has_edge(itn, mn) and G[itn][mn]['has_stx']:\n",
    "                g.add_node(mn, neuron_type='Mot.')\n",
    "                g.add_edge(itn, mn, stx_weight = G[itn][mn]['stx_weight'])\n",
    "    return g\n",
    "\n",
    "g = get_feedforward_subgrapg(s1, s2)"
   ]
  },
  {
   "cell_type": "code",
   "execution_count": 131,
   "id": "722e41c0",
   "metadata": {},
   "outputs": [
    {
     "data": {
      "image/png": "[encoded data removed]",
      "text/plain": [
       "<Figure size 800x500 with 1 Axes>"
      ]
     },
     "metadata": {},
     "output_type": "display_data"
    }
   ],
   "source": [
    "pos = {}\n",
    "layer_gap = 1.5 \n",
    "\n",
    "for i, node in enumerate([n for n in g.nodes if g.nodes[n]['neuron_type'] == 'Sens.']):\n",
    "    pos[node] = (i, 2 * layer_gap)\n",
    "\n",
    "for i, node in enumerate([n for n in g.nodes if g.nodes[n]['neuron_type'] == 'Inter.']):\n",
    "    pos[node] = (i, layer_gap)\n",
    "\n",
    "for i, node in enumerate([n for n in g.nodes if g.nodes[n]['neuron_type'] == 'Mot.']):\n",
    "    pos[node] = (i, 0)\n",
    "\n",
    "plt.figure(figsize=(8, 5)) \n",
    "nx.draw(\n",
    "    g, pos, with_labels=True, node_size=500, font_size=6,\n",
    "    node_color=[{'Sens.': 'lightblue', 'Inter.': 'lightgreen', 'Mot.': 'lightcoral'}[g.nodes[n]['neuron_type']] for n in g.nodes]\n",
    ")\n",
    "plt.title(f\"Feedforward Pathway from {s1} and {s2}\")\n",
    "plt.show()"
   ]
  },
  {
   "cell_type": "code",
   "execution_count": 116,
   "id": "e6b2041e",
   "metadata": {},
   "outputs": [
    {
     "name": "stdout",
     "output_type": "stream",
     "text": [
      "{'RMDL': ['SAAVR', 'SAADR'], 'RMDR': ['SAAVR', 'SAADR'], 'SMDVR': ['SAAVR', 'SAADR'], 'SMDVL': ['SAAVR', 'SAADR'], 'SMDDL': ['SAAVR', 'SAADR'], 'SMDDR': ['SAAVR', 'SAADR'], 'RMFL': ['SAAVR', 'SAADR'], 'RMFR': ['SAAVR', 'SAADR']}\n"
     ]
    }
   ],
   "source": [
    "motor_neuron_from_sens_paths = {}\n",
    "for mn in g.nodes():\n",
    "    if g.nodes[mn]['neuron_type'] == 'Mot.':\n",
    "        connected_sens = []\n",
    "        if nx.has_path(g, s1, mn):\n",
    "            connected_sens.append(s1)\n",
    "        if nx.has_path(g, s2, mn):\n",
    "            connected_sens.append(s2)\n",
    "        motor_neuron_from_sens_paths[mn] = connected_sens\n",
    "\n",
    "print(motor_neuron_from_sens_paths)"
   ]
  },
  {
   "cell_type": "code",
   "execution_count": 117,
   "id": "8c1068a5",
   "metadata": {},
   "outputs": [
    {
     "name": "stdout",
     "output_type": "stream",
     "text": [
      "S1: ['RMDR', 'SMDVL']\n",
      "S2: ['SMDDL', 'SMDDR', 'RMFL']\n"
     ]
    },
    {
     "data": {
      "text/plain": [
       "{'RIML': ['SMDDL', 'RMFR'], 'RIMR': ['RMDR', 'RMFR']}"
      ]
     },
     "execution_count": 117,
     "metadata": {},
     "output_type": "execute_result"
    }
   ],
   "source": [
    "s1_activations = []\n",
    "s2_activations = []\n",
    "\n",
    "for mn in motor_neuron_from_sens_paths:\n",
    "    if G.has_edge(s1, mn) and G[s1][mn]['has_fx']:\n",
    "        s1_activations.append(mn)\n",
    "    if G.has_edge(s2, mn) and G[s2][mn]['has_fx']:\n",
    "        s2_activations.append(mn)\n",
    "\n",
    "print(\"S1:\", s1_activations)\n",
    "print(\"S2:\", s2_activations)\n",
    "itn_activations = {}\n",
    "for itn in g.nodes:\n",
    "    if g.nodes[itn]['neuron_type'] == 'Inter.':\n",
    "        if G.has_edge(s1, itn) and G[s1][itn]['has_fx']:\n",
    "            s1_activations.append(itn)\n",
    "        if G.has_edge(s2, itn) and G[s2][itn]['has_fx']:\n",
    "            s2_activations.append(itn)\n",
    "        if itn not in itn_activations:\n",
    "            itn_activations[itn] = []\n",
    "        for mn in motor_neuron_from_sens_paths:\n",
    "            if G.has_edge(itn, mn) and G[itn][mn]['has_fx']:\n",
    "                itn_activations[itn].append(mn)\n",
    "itn_activations"
   ]
  },
  {
   "cell_type": "code",
   "execution_count": 118,
   "id": "948c3f10",
   "metadata": {},
   "outputs": [
    {
     "data": {
      "application/vnd.microsoft.datawrangler.viewer.v0+json": {
       "columns": [
        {
         "name": "index",
         "rawType": "int64",
         "type": "integer"
        },
        {
         "name": "neuron_name",
         "rawType": "object",
         "type": "string"
        },
        {
         "name": "path_from_s1",
         "rawType": "bool",
         "type": "boolean"
        },
        {
         "name": "path_from_s2",
         "rawType": "bool",
         "type": "boolean"
        },
        {
         "name": "s1_fx",
         "rawType": "bool",
         "type": "boolean"
        },
        {
         "name": "s2_fx",
         "rawType": "bool",
         "type": "boolean"
        }
       ],
       "conversionMethod": "pd.DataFrame",
       "ref": "4ff95310-b634-40d3-8d95-f2c4a346c3e3",
       "rows": [
        [
         "0",
         "RMDL",
         "True",
         "True",
         "False",
         "False"
        ],
        [
         "1",
         "RMDR",
         "True",
         "True",
         "True",
         "False"
        ],
        [
         "2",
         "SMDVR",
         "True",
         "True",
         "False",
         "False"
        ],
        [
         "3",
         "SMDVL",
         "True",
         "True",
         "True",
         "False"
        ],
        [
         "4",
         "SMDDL",
         "True",
         "True",
         "False",
         "True"
        ],
        [
         "5",
         "SMDDR",
         "True",
         "True",
         "False",
         "True"
        ],
        [
         "6",
         "RMFL",
         "True",
         "True",
         "False",
         "True"
        ],
        [
         "7",
         "RMFR",
         "True",
         "True",
         "False",
         "False"
        ]
       ],
       "shape": {
        "columns": 5,
        "rows": 8
       }
      },
      "text/html": [
       "<div>\n",
       "<style scoped>\n",
       "    .dataframe tbody tr th:only-of-type {\n",
       "        vertical-align: middle;\n",
       "    }\n",
       "\n",
       "    .dataframe tbody tr th {\n",
       "        vertical-align: top;\n",
       "    }\n",
       "\n",
       "    .dataframe thead th {\n",
       "        text-align: right;\n",
       "    }\n",
       "</style>\n",
       "<table border=\"1\" class=\"dataframe\">\n",
       "  <thead>\n",
       "    <tr style=\"text-align: right;\">\n",
       "      <th></th>\n",
       "      <th>neuron_name</th>\n",
       "      <th>path_from_s1</th>\n",
       "      <th>path_from_s2</th>\n",
       "      <th>s1_fx</th>\n",
       "      <th>s2_fx</th>\n",
       "    </tr>\n",
       "  </thead>\n",
       "  <tbody>\n",
       "    <tr>\n",
       "      <th>0</th>\n",
       "      <td>RMDL</td>\n",
       "      <td>True</td>\n",
       "      <td>True</td>\n",
       "      <td>False</td>\n",
       "      <td>False</td>\n",
       "    </tr>\n",
       "    <tr>\n",
       "      <th>1</th>\n",
       "      <td>RMDR</td>\n",
       "      <td>True</td>\n",
       "      <td>True</td>\n",
       "      <td>True</td>\n",
       "      <td>False</td>\n",
       "    </tr>\n",
       "    <tr>\n",
       "      <th>2</th>\n",
       "      <td>SMDVR</td>\n",
       "      <td>True</td>\n",
       "      <td>True</td>\n",
       "      <td>False</td>\n",
       "      <td>False</td>\n",
       "    </tr>\n",
       "    <tr>\n",
       "      <th>3</th>\n",
       "      <td>SMDVL</td>\n",
       "      <td>True</td>\n",
       "      <td>True</td>\n",
       "      <td>True</td>\n",
       "      <td>False</td>\n",
       "    </tr>\n",
       "    <tr>\n",
       "      <th>4</th>\n",
       "      <td>SMDDL</td>\n",
       "      <td>True</td>\n",
       "      <td>True</td>\n",
       "      <td>False</td>\n",
       "      <td>True</td>\n",
       "    </tr>\n",
       "    <tr>\n",
       "      <th>5</th>\n",
       "      <td>SMDDR</td>\n",
       "      <td>True</td>\n",
       "      <td>True</td>\n",
       "      <td>False</td>\n",
       "      <td>True</td>\n",
       "    </tr>\n",
       "    <tr>\n",
       "      <th>6</th>\n",
       "      <td>RMFL</td>\n",
       "      <td>True</td>\n",
       "      <td>True</td>\n",
       "      <td>False</td>\n",
       "      <td>True</td>\n",
       "    </tr>\n",
       "    <tr>\n",
       "      <th>7</th>\n",
       "      <td>RMFR</td>\n",
       "      <td>True</td>\n",
       "      <td>True</td>\n",
       "      <td>False</td>\n",
       "      <td>False</td>\n",
       "    </tr>\n",
       "  </tbody>\n",
       "</table>\n",
       "</div>"
      ],
      "text/plain": [
       "  neuron_name  path_from_s1  path_from_s2  s1_fx  s2_fx\n",
       "0        RMDL          True          True  False  False\n",
       "1        RMDR          True          True   True  False\n",
       "2       SMDVR          True          True  False  False\n",
       "3       SMDVL          True          True   True  False\n",
       "4       SMDDL          True          True  False   True\n",
       "5       SMDDR          True          True  False   True\n",
       "6        RMFL          True          True  False   True\n",
       "7        RMFR          True          True  False  False"
      ]
     },
     "execution_count": 118,
     "metadata": {},
     "output_type": "execute_result"
    }
   ],
   "source": [
    "# put everything into pandas df\n",
    "\n",
    "motor_s1s2_df = pd.DataFrame(columns=['neuron_name', 'path_from_s1', 'path_from_s2', 's1_fx', 's2_fx'])\n",
    "for mn in motor_neuron_from_sens_paths:\n",
    "    path_from_s1 = s1 in motor_neuron_from_sens_paths[mn]\n",
    "    path_from_s2 = s2 in motor_neuron_from_sens_paths[mn]\n",
    "    s1_fx = mn in s1_activations\n",
    "    s2_fx = mn in s2_activations\n",
    "    motor_s1s2_df.loc[len(motor_s1s2_df)] = {'neuron_name': mn, 'path_from_s1': path_from_s1, 'path_from_s2': path_from_s2, 's1_fx': s1_fx, 's2_fx': s2_fx}\n",
    "    \n",
    "motor_s1s2_df"
   ]
  },
  {
   "cell_type": "code",
   "execution_count": 119,
   "id": "7e096323",
   "metadata": {},
   "outputs": [
    {
     "data": {
      "application/vnd.microsoft.datawrangler.viewer.v0+json": {
       "columns": [
        {
         "name": "index",
         "rawType": "int64",
         "type": "integer"
        },
        {
         "name": "neuron_name",
         "rawType": "object",
         "type": "string"
        },
        {
         "name": "path_from_s1",
         "rawType": "bool",
         "type": "boolean"
        },
        {
         "name": "path_from_s2",
         "rawType": "bool",
         "type": "boolean"
        },
        {
         "name": "s1_fx",
         "rawType": "bool",
         "type": "boolean"
        },
        {
         "name": "s2_fx",
         "rawType": "bool",
         "type": "boolean"
        },
        {
         "name": "2-path",
         "rawType": "bool",
         "type": "boolean"
        },
        {
         "name": "2-fx",
         "rawType": "bool",
         "type": "boolean"
        }
       ],
       "conversionMethod": "pd.DataFrame",
       "ref": "eee289cb-35b9-434f-b465-b732ee3e4fb5",
       "rows": [
        [
         "0",
         "RMDL",
         "True",
         "True",
         "False",
         "False",
         "True",
         "False"
        ],
        [
         "1",
         "RMDR",
         "True",
         "True",
         "True",
         "False",
         "True",
         "False"
        ],
        [
         "2",
         "SMDVR",
         "True",
         "True",
         "False",
         "False",
         "True",
         "False"
        ],
        [
         "3",
         "SMDVL",
         "True",
         "True",
         "True",
         "False",
         "True",
         "False"
        ],
        [
         "4",
         "SMDDL",
         "True",
         "True",
         "False",
         "True",
         "True",
         "False"
        ],
        [
         "5",
         "SMDDR",
         "True",
         "True",
         "False",
         "True",
         "True",
         "False"
        ],
        [
         "6",
         "RMFL",
         "True",
         "True",
         "False",
         "True",
         "True",
         "False"
        ],
        [
         "7",
         "RMFR",
         "True",
         "True",
         "False",
         "False",
         "True",
         "False"
        ]
       ],
       "shape": {
        "columns": 7,
        "rows": 8
       }
      },
      "text/html": [
       "<div>\n",
       "<style scoped>\n",
       "    .dataframe tbody tr th:only-of-type {\n",
       "        vertical-align: middle;\n",
       "    }\n",
       "\n",
       "    .dataframe tbody tr th {\n",
       "        vertical-align: top;\n",
       "    }\n",
       "\n",
       "    .dataframe thead th {\n",
       "        text-align: right;\n",
       "    }\n",
       "</style>\n",
       "<table border=\"1\" class=\"dataframe\">\n",
       "  <thead>\n",
       "    <tr style=\"text-align: right;\">\n",
       "      <th></th>\n",
       "      <th>neuron_name</th>\n",
       "      <th>path_from_s1</th>\n",
       "      <th>path_from_s2</th>\n",
       "      <th>s1_fx</th>\n",
       "      <th>s2_fx</th>\n",
       "      <th>2-path</th>\n",
       "      <th>2-fx</th>\n",
       "    </tr>\n",
       "  </thead>\n",
       "  <tbody>\n",
       "    <tr>\n",
       "      <th>0</th>\n",
       "      <td>RMDL</td>\n",
       "      <td>True</td>\n",
       "      <td>True</td>\n",
       "      <td>False</td>\n",
       "      <td>False</td>\n",
       "      <td>True</td>\n",
       "      <td>False</td>\n",
       "    </tr>\n",
       "    <tr>\n",
       "      <th>1</th>\n",
       "      <td>RMDR</td>\n",
       "      <td>True</td>\n",
       "      <td>True</td>\n",
       "      <td>True</td>\n",
       "      <td>False</td>\n",
       "      <td>True</td>\n",
       "      <td>False</td>\n",
       "    </tr>\n",
       "    <tr>\n",
       "      <th>2</th>\n",
       "      <td>SMDVR</td>\n",
       "      <td>True</td>\n",
       "      <td>True</td>\n",
       "      <td>False</td>\n",
       "      <td>False</td>\n",
       "      <td>True</td>\n",
       "      <td>False</td>\n",
       "    </tr>\n",
       "    <tr>\n",
       "      <th>3</th>\n",
       "      <td>SMDVL</td>\n",
       "      <td>True</td>\n",
       "      <td>True</td>\n",
       "      <td>True</td>\n",
       "      <td>False</td>\n",
       "      <td>True</td>\n",
       "      <td>False</td>\n",
       "    </tr>\n",
       "    <tr>\n",
       "      <th>4</th>\n",
       "      <td>SMDDL</td>\n",
       "      <td>True</td>\n",
       "      <td>True</td>\n",
       "      <td>False</td>\n",
       "      <td>True</td>\n",
       "      <td>True</td>\n",
       "      <td>False</td>\n",
       "    </tr>\n",
       "    <tr>\n",
       "      <th>5</th>\n",
       "      <td>SMDDR</td>\n",
       "      <td>True</td>\n",
       "      <td>True</td>\n",
       "      <td>False</td>\n",
       "      <td>True</td>\n",
       "      <td>True</td>\n",
       "      <td>False</td>\n",
       "    </tr>\n",
       "    <tr>\n",
       "      <th>6</th>\n",
       "      <td>RMFL</td>\n",
       "      <td>True</td>\n",
       "      <td>True</td>\n",
       "      <td>False</td>\n",
       "      <td>True</td>\n",
       "      <td>True</td>\n",
       "      <td>False</td>\n",
       "    </tr>\n",
       "    <tr>\n",
       "      <th>7</th>\n",
       "      <td>RMFR</td>\n",
       "      <td>True</td>\n",
       "      <td>True</td>\n",
       "      <td>False</td>\n",
       "      <td>False</td>\n",
       "      <td>True</td>\n",
       "      <td>False</td>\n",
       "    </tr>\n",
       "  </tbody>\n",
       "</table>\n",
       "</div>"
      ],
      "text/plain": [
       "  neuron_name  path_from_s1  path_from_s2  s1_fx  s2_fx  2-path   2-fx\n",
       "0        RMDL          True          True  False  False    True  False\n",
       "1        RMDR          True          True   True  False    True  False\n",
       "2       SMDVR          True          True  False  False    True  False\n",
       "3       SMDVL          True          True   True  False    True  False\n",
       "4       SMDDL          True          True  False   True    True  False\n",
       "5       SMDDR          True          True  False   True    True  False\n",
       "6        RMFL          True          True  False   True    True  False\n",
       "7        RMFR          True          True  False  False    True  False"
      ]
     },
     "execution_count": 119,
     "metadata": {},
     "output_type": "execute_result"
    }
   ],
   "source": [
    "# compute 2-connection column\n",
    "motor_s1s2_df['2-path'] = (motor_s1s2_df['path_from_s1']) & (motor_s1s2_df['path_from_s2'])\n",
    "motor_s1s2_df['2-fx'] = (motor_s1s2_df['s1_fx']) & (motor_s1s2_df['s2_fx'])\n",
    "motor_s1s2_df"
   ]
  },
  {
   "cell_type": "code",
   "execution_count": 120,
   "id": "c27e61c7",
   "metadata": {},
   "outputs": [
    {
     "name": "stdout",
     "output_type": "stream",
     "text": [
      "              path_from_s1  path_from_s2     s1_fx     s2_fx  2-path  2-fx\n",
      "path_from_s1           NaN           NaN       NaN       NaN     NaN   NaN\n",
      "path_from_s2           NaN           NaN       NaN       NaN     NaN   NaN\n",
      "s1_fx                  NaN           NaN  1.000000 -0.447214     NaN   NaN\n",
      "s2_fx                  NaN           NaN -0.447214  1.000000     NaN   NaN\n",
      "2-path                 NaN           NaN       NaN       NaN     NaN   NaN\n",
      "2-fx                   NaN           NaN       NaN       NaN     NaN   NaN\n"
     ]
    }
   ],
   "source": [
    "correlation_matrix = motor_s1s2_df.drop(columns=['neuron_name']).corr(method='spearman')\n",
    "print(correlation_matrix)"
   ]
  },
  {
   "cell_type": "code",
   "execution_count": 129,
   "id": "54e0312d",
   "metadata": {},
   "outputs": [],
   "source": [
    "# for each pair of sensory neurons, get a vector of interneuron and gates\n",
    "\n",
    "def get_interneuron_and_vec(s1, s2):\n",
    "    base = [0] * len(filt_interneurons)\n",
    "    for ix, itn in enumerate(filt_interneurons):\n",
    "        if not G.has_edge(s1, itn) or not G.has_edge(s2, itn):\n",
    "            continue\n",
    "        if not G[s1][itn]['has_stx'] or not G[s2][itn]['has_stx']:\n",
    "            continue\n",
    "        base[ix] = True\n",
    "    return np.array(base)\n",
    "\n",
    "and_itn_vecs = np.ndarray(shape=(len(filt_sens_neurons), len(filt_sens_neurons), len(filt_interneurons)), dtype=bool)\n",
    "for i, s1 in enumerate(filt_sens_neurons):\n",
    "    for j, s2 in enumerate(filt_sens_neurons):\n",
    "        if i == j:\n",
    "            continue\n",
    "        and_itn_vecs[i][j] = get_interneuron_and_vec(s1, s2)\n",
    "        and_itn_vecs[j][i] = and_itn_vecs[i][j]"
   ]
  },
  {
   "cell_type": "code",
   "execution_count": 133,
   "id": "e1afab6e",
   "metadata": {},
   "outputs": [],
   "source": [
    "# project and gate vectors down onto motor neurons\n",
    "def get_itn_to_mot_projection(itn_vec):\n",
    "    mot_vec = np.zeros(len(filt_motor_neurons), dtype=bool)\n",
    "    for ix, itn in enumerate(filt_interneurons):\n",
    "        if itn_vec[ix]: # if active in itn_vec\n",
    "            for ixm, mn in enumerate(filt_motor_neurons):\n",
    "                if G.has_edge(itn, mn) and G[itn][mn]['has_stx']:\n",
    "                    mot_vec[ixm] = True\n",
    "    return mot_vec\n",
    "\n",
    "motor_proj = np.ndarray(shape=(len(filt_sens_neurons), len(filt_sens_neurons), len(filt_motor_neurons)), dtype=bool)\n",
    "for i, s1 in enumerate(filt_sens_neurons):\n",
    "    for j, s2 in enumerate(filt_sens_neurons):\n",
    "        if i == j:\n",
    "            continue\n",
    "        motor_proj[i][j] = get_itn_to_mot_projection(and_itn_vecs[i][j])\n",
    "        motor_proj[j][i] = motor_proj[i][j]"
   ]
  },
  {
   "cell_type": "code",
   "execution_count": 145,
   "id": "c300e9b6",
   "metadata": {},
   "outputs": [
    {
     "data": {
      "application/vnd.microsoft.datawrangler.viewer.v0+json": {
       "columns": [
        {
         "name": "index",
         "rawType": "int64",
         "type": "integer"
        },
        {
         "name": "sensory_neuron_1",
         "rawType": "object",
         "type": "string"
        },
        {
         "name": "sensory_neuron_2",
         "rawType": "object",
         "type": "string"
        },
        {
         "name": "motor_activation",
         "rawType": "object",
         "type": "unknown"
        },
        {
         "name": "motor_projection",
         "rawType": "object",
         "type": "unknown"
        }
       ],
       "conversionMethod": "pd.DataFrame",
       "ref": "665093c3-70df-4866-b9c5-eb39d7111735",
       "rows": [
        [
         "0",
         "ASHL",
         "BAGR",
         "[ True  True  True  True  True  True  True False False  True  True False\n False False  True False False  True  True False False]",
         "[ True  True False  True False  True False  True  True  True  True  True\n False  True  True  True False  True False  True False]"
        ],
        [
         "1",
         "ASHL",
         "URXR",
         "[ True  True  True  True  True  True  True False False  True False False\n  True False  True False False  True  True False False]",
         "[False False False False False False False False  True False False False\n False False  True False False False False False  True]"
        ],
        [
         "2",
         "ASHL",
         "ASGL",
         "[ True  True  True  True  True  True  True False False  True  True False\n  True False  True False False  True  True False False]",
         "[False  True  True  True  True False False False  True False False False\n False False  True False False False False False  True]"
        ],
        [
         "3",
         "ASHL",
         "FLPR",
         "[ True  True  True  True  True  True  True False False  True  True False\n  True False  True False False  True  True False False]",
         "[False False False False False False False False  True False False False\n False False  True False False False False False  True]"
        ],
        [
         "4",
         "ASHL",
         "IL2DR",
         "[ True  True  True  True  True  True  True False False  True  True False\n  True False  True False False  True  True False False]",
         "[False False False False False False False False False False False False\n False False False False False False False False False]"
        ],
        [
         "5",
         "ASHL",
         "URYVR",
         "[ True False  True  True  True  True  True False False  True  True False\n  True False  True False False  True  True False False]",
         "[False False False False False False False False  True False False False\n False False  True False False False False False  True]"
        ],
        [
         "6",
         "ASHL",
         "SAADR",
         "[ True  True  True  True  True  True  True False False  True  True False\n  True False False False False False  True False False]",
         "[False False False False False False False False False False False False\n False False False False False False False False False]"
        ],
        [
         "7",
         "ASHL",
         "SAAVR",
         "[ True  True  True  True  True False  True False False  True False False\n  True False  True False False False False False False]",
         "[False False False False False False False False False False False False\n False False False False False False False False False]"
        ],
        [
         "8",
         "ASHL",
         "ADLR",
         "[False  True False  True  True  True  True False False  True False False\n  True False  True False False  True  True False False]",
         "[False False False False False False False False False False False False\n False False False False False False False False False]"
        ],
        [
         "9",
         "ASHL",
         "FLPL",
         "[ True  True  True  True  True  True  True False False  True  True False\n  True False  True False False  True  True False False]",
         "[False False False False False False False False False False False False\n False False False False False False False False False]"
        ],
        [
         "10",
         "ASHL",
         "ASIL",
         "[ True  True  True False  True  True  True False False False  True False\n  True False  True False False False  True False False]",
         "[False False False False False False False False  True False False False\n False False  True False False False False False  True]"
        ],
        [
         "11",
         "ASHL",
         "SAAVL",
         "[ True  True  True  True  True False False False False False False False\n  True False  True False False  True  True False False]",
         "[False False False False False False False False  True False False False\n False False  True False False False False False  True]"
        ],
        [
         "12",
         "ASHL",
         "AWAR",
         "[ True  True  True  True  True  True  True False False  True False False\n  True False  True False False  True  True False False]",
         "[False False False False False False False False False False False False\n False False False False False False False False False]"
        ],
        [
         "13",
         "ASHL",
         "OLQVR",
         "[ True  True  True False False  True  True False False  True  True False\n False False  True False False  True  True False False]",
         "[False False False False False False False False False False False False\n False False False False False False False False False]"
        ],
        [
         "14",
         "ASHL",
         "ADFL",
         "[ True  True  True  True  True  True  True False False  True  True False\n  True False  True False False  True  True False False]",
         "[ True  True  True  True  True  True False  True  True  True  True  True\n False  True  True  True False  True False  True  True]"
        ],
        [
         "15",
         "ASHL",
         "AFDL",
         "[ True  True  True  True  True  True  True False False  True False False\n  True False  True False False  True  True False False]",
         "[False  True  True  True  True False False False False False False False\n False False False False False False False False False]"
        ],
        [
         "16",
         "ASHL",
         "ASER",
         "[ True  True  True  True  True  True  True False False  True  True False\n  True False False False False  True  True False False]",
         "[False  True  True  True  True False False False  True False False False\n False False  True False False False False False  True]"
        ],
        [
         "17",
         "ASHL",
         "AWCL",
         "[ True  True  True  True  True  True  True False False  True  True False\n False False  True False False  True  True False False]",
         "[False False False False False False False False  True False False False\n False False  True False False False False False  True]"
        ],
        [
         "18",
         "ASHL",
         "URYDR",
         "[ True  True  True  True False False  True False False  True  True False\n  True False  True False False  True  True False False]",
         "[False False False False False False False False False False False False\n False False False False False False False False False]"
        ],
        [
         "19",
         "ASHL",
         "ASHR",
         "[ True  True  True  True  True False  True False False  True False False\n  True False  True False False  True  True False False]",
         "[False False False False False False False False False False False False\n False False False False False False False False False]"
        ],
        [
         "20",
         "ASHL",
         "ASEL",
         "[ True  True  True  True  True  True  True False False  True  True False\n  True False  True False False  True  True False False]",
         "[False False False False False False False False  True False False False\n False False  True False False False False False  True]"
        ],
        [
         "21",
         "ASHL",
         "AUAL",
         "[ True  True  True  True  True  True  True False False  True False False\n  True False False False False  True  True False False]",
         "[ True  True False  True False  True False  True  True  True  True  True\n False  True  True  True False  True False  True False]"
        ],
        [
         "22",
         "ASHL",
         "AUAR",
         "[False  True  True  True  True False  True False False  True  True False\n  True False False False False  True  True False False]",
         "[False False False False False False False False False False False False\n False False False False False False False False False]"
        ],
        [
         "23",
         "ASHL",
         "SAADL",
         "[False  True  True  True  True  True  True False False  True  True False\n  True False  True False False  True  True False False]",
         "[False False False False False False False False False False False False\n False False False False False False False False False]"
        ],
        [
         "24",
         "ASHL",
         "AWAL",
         "[ True  True  True  True False  True  True False False  True  True False\n  True False  True False False  True  True False False]",
         "[False  True  True  True  True False False False False False False False\n False False False False False False False False False]"
        ],
        [
         "25",
         "ASHL",
         "OLLR",
         "[ True  True  True  True  True  True  True False False  True  True False\n  True False  True False False  True  True False False]",
         "[False False False False False False False False False False False False\n False False False False False False False False False]"
        ],
        [
         "26",
         "ASHL",
         "URYVL",
         "[ True  True  True  True  True  True  True False False  True  True False\n  True False  True False False  True  True False False]",
         "[False False False False False False False False False False False False\n False False False False False False False False False]"
        ],
        [
         "27",
         "ASHL",
         "AQR",
         "[ True  True False  True  True  True  True False False  True  True False\n  True False  True False False  True  True False False]",
         "[ True  True False  True False  True False  True  True  True  True  True\n False  True  True  True False  True False  True  True]"
        ],
        [
         "28",
         "ASHL",
         "URYDL",
         "[ True False  True  True  True  True  True False False  True  True False\n  True False  True False False False False False False]",
         "[False False False False False False False False False False False False\n False False False False False False False False False]"
        ],
        [
         "29",
         "ASHL",
         "IL2R",
         "[ True  True  True  True  True  True  True False False  True  True False\n False False  True False False  True  True False False]",
         "[False False False False False False False False False False False False\n False False False False False False False False False]"
        ],
        [
         "30",
         "ASHL",
         "IL2DL",
         "[ True  True  True  True  True  True  True False False  True False False\n  True False  True False False False  True False False]",
         "[False False False False False False False False False False False False\n False False False False False False False False False]"
        ],
        [
         "31",
         "ASHL",
         "IL2VL",
         "[ True  True  True  True  True  True  True False False  True  True False\n False False  True False False  True  True False False]",
         "[ True  True False  True False  True False  True  True  True  True  True\n False  True  True  True False  True False  True False]"
        ],
        [
         "32",
         "ASHL",
         "OLLL",
         "[ True False  True  True  True  True  True False False  True  True False\n  True False  True False False  True  True False False]",
         "[False False False False False False False False False False False False\n False False False False False False False False False]"
        ],
        [
         "33",
         "ASHL",
         "URBL",
         "[ True  True  True  True  True  True  True False False  True  True False\n  True False  True False False  True  True False False]",
         "[False False False False False False False False  True False False False\n False False False False  True False False False False]"
        ],
        [
         "34",
         "ASHL",
         "ASKL",
         "[ True  True  True  True  True  True  True False False  True  True False\n  True False  True False False  True  True False False]",
         "[False False False False False False False False  True False False False\n False False  True False  True False False False  True]"
        ],
        [
         "35",
         "ASHL",
         "AWCR",
         "[ True  True  True  True  True  True  True False False  True  True False\n  True False  True False False  True  True False False]",
         "[False  True  True  True  True False False False  True False False False\n False False  True False False False False False  True]"
        ],
        [
         "36",
         "ASHL",
         "AWBL",
         "[False  True  True  True  True False  True False False  True False False\n  True False  True False False  True  True False False]",
         "[ True  True  True  True  True  True False  True  True  True  True  True\n False  True  True  True False  True False  True False]"
        ],
        [
         "37",
         "ASHL",
         "ADLL",
         "[ True  True  True False  True  True  True False False False  True False\n  True False  True False False  True  True False False]",
         "[False False False False False False False False  True False False False\n False False  True False  True False False False  True]"
        ],
        [
         "38",
         "ASHL",
         "ASGR",
         "[ True  True  True  True  True  True  True False False  True False False\n  True False  True False False  True  True False False]",
         "[False False False False False False False False False False False False\n False False False False False False False False False]"
        ],
        [
         "39",
         "ASHL",
         "IL2L",
         "[ True  True  True  True  True  True  True False False  True  True False\n  True False  True False False  True  True False False]",
         "[False False False False False False False False False False False False\n False False False False False False False False False]"
        ],
        [
         "40",
         "ASHL",
         "AWBR",
         "[ True  True  True  True  True  True  True False False  True  True False\n  True False  True False False  True  True False False]",
         "[False False False False False False False False False False False False\n False False False False False False False False False]"
        ],
        [
         "41",
         "ASHL",
         "ASKR",
         "[ True  True  True  True  True  True  True False False  True False False\n  True False  True False False  True  True False False]",
         "[False False False False False False False False False False False False\n False False False False False False False False False]"
        ],
        [
         "42",
         "ASHL",
         "OLQDL",
         "[ True  True  True  True False  True  True False False  True  True False\n False False False False False  True False False False]",
         "[False False False False False False False False False False False False\n False False False False False False False False False]"
        ],
        [
         "43",
         "ASHL",
         "ASIR",
         "[ True  True  True  True False  True  True False False  True False False\n  True False  True False False False  True False False]",
         "[False False False False False False False False False False False False\n False False False False False False False False False]"
        ],
        [
         "44",
         "ASHL",
         "BAGL",
         "[ True  True  True  True  True False  True False False  True  True False\n  True False  True False False  True  True False False]",
         "[False False False False False False False False False False False False\n False False False False False False False False False]"
        ],
        [
         "45",
         "ASHL",
         "URBR",
         "[ True  True  True  True  True  True  True False False  True  True False\n False False  True False False  True False False False]",
         "[False False False False False False False False False False False False\n False False False False False False False False False]"
        ],
        [
         "46",
         "ASHL",
         "URXL",
         "[ True  True  True  True  True  True  True False False  True False False\n  True False  True False False  True  True False False]",
         "[ True  True False  True False  True False  True  True  True  True  True\n False  True  True  True False  True False  True False]"
        ],
        [
         "47",
         "BAGR",
         "URXR",
         "[ True  True  True  True  True  True  True False False  True False  True\n False  True  True  True  True  True  True False  True]",
         "[False False False  True False False False False False False False False\n False False False False False False False False False]"
        ],
        [
         "48",
         "BAGR",
         "ASGL",
         "[ True  True  True  True  True  True  True  True  True  True  True  True\n False False  True  True  True  True  True False  True]",
         "[False False False False False False False False False False False False\n False False False False False False False False False]"
        ],
        [
         "49",
         "BAGR",
         "FLPR",
         "[ True  True  True  True  True  True  True False  True  True  True  True\n False  True  True  True  True  True  True False  True]",
         "[False False False False False False False False False False False False\n False False False False False False False False False]"
        ]
       ],
       "shape": {
        "columns": 4,
        "rows": 1128
       }
      },
      "text/html": [
       "<div>\n",
       "<style scoped>\n",
       "    .dataframe tbody tr th:only-of-type {\n",
       "        vertical-align: middle;\n",
       "    }\n",
       "\n",
       "    .dataframe tbody tr th {\n",
       "        vertical-align: top;\n",
       "    }\n",
       "\n",
       "    .dataframe thead th {\n",
       "        text-align: right;\n",
       "    }\n",
       "</style>\n",
       "<table border=\"1\" class=\"dataframe\">\n",
       "  <thead>\n",
       "    <tr style=\"text-align: right;\">\n",
       "      <th></th>\n",
       "      <th>sensory_neuron_1</th>\n",
       "      <th>sensory_neuron_2</th>\n",
       "      <th>motor_activation</th>\n",
       "      <th>motor_projection</th>\n",
       "    </tr>\n",
       "  </thead>\n",
       "  <tbody>\n",
       "    <tr>\n",
       "      <th>0</th>\n",
       "      <td>ASHL</td>\n",
       "      <td>BAGR</td>\n",
       "      <td>[True, True, True, True, True, True, True, Fal...</td>\n",
       "      <td>[True, True, False, True, False, True, False, ...</td>\n",
       "    </tr>\n",
       "    <tr>\n",
       "      <th>1</th>\n",
       "      <td>ASHL</td>\n",
       "      <td>URXR</td>\n",
       "      <td>[True, True, True, True, True, True, True, Fal...</td>\n",
       "      <td>[False, False, False, False, False, False, Fal...</td>\n",
       "    </tr>\n",
       "    <tr>\n",
       "      <th>2</th>\n",
       "      <td>ASHL</td>\n",
       "      <td>ASGL</td>\n",
       "      <td>[True, True, True, True, True, True, True, Fal...</td>\n",
       "      <td>[False, True, True, True, True, False, False, ...</td>\n",
       "    </tr>\n",
       "    <tr>\n",
       "      <th>3</th>\n",
       "      <td>ASHL</td>\n",
       "      <td>FLPR</td>\n",
       "      <td>[True, True, True, True, True, True, True, Fal...</td>\n",
       "      <td>[False, False, False, False, False, False, Fal...</td>\n",
       "    </tr>\n",
       "    <tr>\n",
       "      <th>4</th>\n",
       "      <td>ASHL</td>\n",
       "      <td>IL2DR</td>\n",
       "      <td>[True, True, True, True, True, True, True, Fal...</td>\n",
       "      <td>[False, False, False, False, False, False, Fal...</td>\n",
       "    </tr>\n",
       "    <tr>\n",
       "      <th>...</th>\n",
       "      <td>...</td>\n",
       "      <td>...</td>\n",
       "      <td>...</td>\n",
       "      <td>...</td>\n",
       "    </tr>\n",
       "    <tr>\n",
       "      <th>1123</th>\n",
       "      <td>ASIR</td>\n",
       "      <td>URBR</td>\n",
       "      <td>[True, True, True, True, False, True, True, Tr...</td>\n",
       "      <td>[False, False, False, False, False, False, Fal...</td>\n",
       "    </tr>\n",
       "    <tr>\n",
       "      <th>1124</th>\n",
       "      <td>ASIR</td>\n",
       "      <td>URXL</td>\n",
       "      <td>[True, True, True, True, False, True, True, Fa...</td>\n",
       "      <td>[False, False, False, False, False, False, Fal...</td>\n",
       "    </tr>\n",
       "    <tr>\n",
       "      <th>1125</th>\n",
       "      <td>BAGL</td>\n",
       "      <td>URBR</td>\n",
       "      <td>[True, True, True, True, True, False, True, Tr...</td>\n",
       "      <td>[False, False, False, False, False, False, Fal...</td>\n",
       "    </tr>\n",
       "    <tr>\n",
       "      <th>1126</th>\n",
       "      <td>BAGL</td>\n",
       "      <td>URXL</td>\n",
       "      <td>[True, True, True, True, True, False, True, Fa...</td>\n",
       "      <td>[False, False, False, False, False, False, Fal...</td>\n",
       "    </tr>\n",
       "    <tr>\n",
       "      <th>1127</th>\n",
       "      <td>URBR</td>\n",
       "      <td>URXL</td>\n",
       "      <td>[True, True, True, True, True, True, True, Fal...</td>\n",
       "      <td>[False, False, False, False, False, False, Fal...</td>\n",
       "    </tr>\n",
       "  </tbody>\n",
       "</table>\n",
       "<p>1128 rows × 4 columns</p>\n",
       "</div>"
      ],
      "text/plain": [
       "     sensory_neuron_1 sensory_neuron_2  \\\n",
       "0                ASHL             BAGR   \n",
       "1                ASHL             URXR   \n",
       "2                ASHL             ASGL   \n",
       "3                ASHL             FLPR   \n",
       "4                ASHL            IL2DR   \n",
       "...               ...              ...   \n",
       "1123             ASIR             URBR   \n",
       "1124             ASIR             URXL   \n",
       "1125             BAGL             URBR   \n",
       "1126             BAGL             URXL   \n",
       "1127             URBR             URXL   \n",
       "\n",
       "                                       motor_activation  \\\n",
       "0     [True, True, True, True, True, True, True, Fal...   \n",
       "1     [True, True, True, True, True, True, True, Fal...   \n",
       "2     [True, True, True, True, True, True, True, Fal...   \n",
       "3     [True, True, True, True, True, True, True, Fal...   \n",
       "4     [True, True, True, True, True, True, True, Fal...   \n",
       "...                                                 ...   \n",
       "1123  [True, True, True, True, False, True, True, Tr...   \n",
       "1124  [True, True, True, True, False, True, True, Fa...   \n",
       "1125  [True, True, True, True, True, False, True, Tr...   \n",
       "1126  [True, True, True, True, True, False, True, Fa...   \n",
       "1127  [True, True, True, True, True, True, True, Fal...   \n",
       "\n",
       "                                       motor_projection  \n",
       "0     [True, True, False, True, False, True, False, ...  \n",
       "1     [False, False, False, False, False, False, Fal...  \n",
       "2     [False, True, True, True, True, False, False, ...  \n",
       "3     [False, False, False, False, False, False, Fal...  \n",
       "4     [False, False, False, False, False, False, Fal...  \n",
       "...                                                 ...  \n",
       "1123  [False, False, False, False, False, False, Fal...  \n",
       "1124  [False, False, False, False, False, False, Fal...  \n",
       "1125  [False, False, False, False, False, False, Fal...  \n",
       "1126  [False, False, False, False, False, False, Fal...  \n",
       "1127  [False, False, False, False, False, False, Fal...  \n",
       "\n",
       "[1128 rows x 4 columns]"
      ]
     },
     "execution_count": 145,
     "metadata": {},
     "output_type": "execute_result"
    }
   ],
   "source": [
    "# build data frame consisting of motor neuron activations for each pair of sensory neurons\n",
    "\n",
    "motor_activation_df = pd.DataFrame(columns=['sensory_neuron_1', 'sensory_neuron_2', 'motor_activation', 'motor_projection'])\n",
    "\n",
    "for i, s1 in enumerate(filt_sens_neurons):\n",
    "    for j, s2 in enumerate(filt_sens_neurons):\n",
    "        if i == j:\n",
    "            continue\n",
    "        # skip if opposite order already in motor_activation_df\n",
    "        if not motor_activation_df[\n",
    "            (motor_activation_df['sensory_neuron_1'] == s2) & \n",
    "            (motor_activation_df['sensory_neuron_2'] == s1)\n",
    "        ].empty:\n",
    "            continue\n",
    "        mn_act_vec = np.zeros(len(filt_motor_neurons), dtype=bool)\n",
    "        for ixm, mn in enumerate(filt_motor_neurons):\n",
    "            # sens 1 active\n",
    "            if G.has_edge(s1, mn) and G[s1][mn]['has_fx']:\n",
    "                sens1_active = True\n",
    "            else:\n",
    "                sens1_active = False\n",
    "            # sens 2 active\n",
    "            if G.has_edge(s2, mn) and G[s2][mn]['has_fx']:\n",
    "                sens2_active = True\n",
    "            else:\n",
    "                sens2_active = False\n",
    "            mn_act_vec[ixm] = not (sens1_active or sens2_active)\n",
    "            # add to df\n",
    "        motor_activation_df.loc[len(motor_activation_df)] = {'sensory_neuron_1': s1, 'sensory_neuron_2': s2, 'motor_activation': mn_act_vec, 'motor_projection': motor_proj[i][j]}\n",
    "            \n",
    "motor_activation_df"
   ]
  },
  {
   "cell_type": "code",
   "execution_count": 153,
   "id": "05e8a7e0",
   "metadata": {},
   "outputs": [
    {
     "name": "stdout",
     "output_type": "stream",
     "text": [
      "overall Pearson r: -0.04545592320491755\n"
     ]
    }
   ],
   "source": [
    "import numpy as np\n",
    "\n",
    "A = np.stack(motor_activation_df[\"motor_activation\"].values)\n",
    "P = np.stack(motor_activation_df[\"motor_projection\"].values)\n",
    "\n",
    "r_global = np.corrcoef(A.ravel().astype(int),\n",
    "                       P.ravel().astype(int))[0, 1]\n",
    "print(\"overall Pearson r:\", r_global)"
   ]
  }
 ],
 "metadata": {
  "kernelspec": {
   "display_name": "celegans",
   "language": "python",
   "name": "python3"
  },
  "language_info": {
   "codemirror_mode": {
    "name": "ipython",
    "version": 3
   },
   "file_extension": ".py",
   "mimetype": "text/x-python",
   "name": "python",
   "nbconvert_exporter": "python",
   "pygments_lexer": "ipython3",
   "version": "3.10.16"
  }
 },
 "nbformat": 4,
 "nbformat_minor": 5
}
