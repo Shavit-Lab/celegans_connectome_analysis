{
 "cells": [
  {
   "cell_type": "code",
   "execution_count": 1,
   "id": "d08e158e",
   "metadata": {},
   "outputs": [],
   "source": [
    "import numpy as np\n",
    "import matplotlib.pyplot as plt\n",
    "import networkx as nx\n",
    "from pynwb import NWBHDF5IO"
   ]
  },
  {
   "cell_type": "code",
   "execution_count": 2,
   "id": "7bfb87dc",
   "metadata": {},
   "outputs": [],
   "source": [
    "DATA_PATH = 'data/celegans_time_data/sub-2022-06-14-01-SWF702_ses-20220614_behavior+image+ophys.nwb'"
   ]
  },
  {
   "cell_type": "code",
   "execution_count": 3,
   "id": "5ed6b911",
   "metadata": {},
   "outputs": [
    {
     "name": "stdout",
     "output_type": "stream",
     "text": [
      "Identifier: 2022-06-14-01\n",
      "Session Description: Ventral cord at the bottom when head points to the left on confocal images (what the neuronal manual suggests)\n",
      "Young adult with a few mature eggs\n",
      "Some pumps here and there\n",
      "Coiling for ~5 loops at t~220, coiling for ~5 loops again at t~510, coiling again for ~5 loop at t~810, coiling briefly again t ~1100, long coiling ~8 loops at t~1400, long coiling again t~1550\n",
      "The second half is slightly out of focus (the edge of 3-5 neurons at the upper border in z-dimension), should not affect registration in candy’s experience\n",
      "\n",
      "2022-06-14 00:00:00-07:00\n",
      "Acquisition: CalciumImageSeries\n",
      "Acquisition: NeuroPALImageRaw\n",
      "Processing module: BF_NIR\n",
      "Processing module: Behavior\n",
      "Processing module: CalciumActivity\n",
      "Processing module: NeuroPAL\n",
      "Device: NIR Config\n",
      "Device: Spinning Disk Confocal\n"
     ]
    }
   ],
   "source": [
    "with NWBHDF5IO(DATA_PATH, 'r') as io:\n",
    "    nwbfile = io.read()\n",
    "    print(f\"Identifier: {nwbfile.identifier}\")\n",
    "    print(f\"Session Description: {nwbfile.session_description}\")\n",
    "    print(nwbfile.session_start_time)\n",
    "    \n",
    "    for name, data in nwbfile.acquisition.items():\n",
    "        print(f\"Acquisition: {name}\")\n",
    "    \n",
    "    for module in nwbfile.processing.values():\n",
    "        print(f\"Processing module: {module.name}\")\n",
    "        \n",
    "    for device in nwbfile.devices.values():\n",
    "        print(f\"Device: {device.name}\")"
   ]
  },
  {
   "cell_type": "code",
   "execution_count": null,
   "id": "d3296ee5",
   "metadata": {},
   "outputs": [],
   "source": [
    "from nwbwidgets import nwb2widget\n",
    "\n",
    "io = NWBHDF5IO(DATA_PATH, 'r')\n",
    "nwbfile = io.read()\n",
    "widget = nwb2widget(nwbfile)"
   ]
  },
  {
   "cell_type": "code",
   "execution_count": 6,
   "id": "ada449c3",
   "metadata": {},
   "outputs": [
    {
     "data": {
      "application/vnd.jupyter.widget-view+json": {
       "model_id": "786162f545914edda6ab15ebe0177af7",
       "version_major": 2,
       "version_minor": 0
      },
      "text/plain": [
       "VBox(children=(HBox(children=(Label(value='session_description:', layout=Layout(max_height='40px', max_width='…"
      ]
     },
     "execution_count": 6,
     "metadata": {},
     "output_type": "execute_result"
    }
   ],
   "source": [
    "widget"
   ]
  }
 ],
 "metadata": {
  "kernelspec": {
   "display_name": "nwb_env",
   "language": "python",
   "name": "python3"
  },
  "language_info": {
   "codemirror_mode": {
    "name": "ipython",
    "version": 3
   },
   "file_extension": ".py",
   "mimetype": "text/x-python",
   "name": "python",
   "nbconvert_exporter": "python",
   "pygments_lexer": "ipython3",
   "version": "3.8.20"
  }
 },
 "nbformat": 4,
 "nbformat_minor": 5
}
